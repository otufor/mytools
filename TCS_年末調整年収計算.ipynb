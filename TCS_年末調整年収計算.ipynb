{
  "nbformat": 4,
  "nbformat_minor": 0,
  "metadata": {
    "colab": {
      "provenance": [],
      "authorship_tag": "ABX9TyMMqoPl5Wo7UpeOwvG8CZGS",
      "include_colab_link": true
    },
    "kernelspec": {
      "name": "python3",
      "display_name": "Python 3"
    },
    "language_info": {
      "name": "python"
    }
  },
  "cells": [
    {
      "cell_type": "markdown",
      "metadata": {
        "id": "view-in-github",
        "colab_type": "text"
      },
      "source": [
        "<a href=\"https://colab.research.google.com/github/otufor/mytools/blob/main/TCS_%E5%B9%B4%E6%9C%AB%E8%AA%BF%E6%95%B4%E5%B9%B4%E5%8F%8E%E8%A8%88%E7%AE%97.ipynb\" target=\"_parent\"><img src=\"https://colab.research.google.com/assets/colab-badge.svg\" alt=\"Open In Colab\"/></a>"
      ]
    },
    {
      "cell_type": "markdown",
      "source": [
        "# 使い方\n",
        "個人の google drive の pdf(パスワード付き)をアップロードしてください。  \n",
        "* デフォルトパス : salary/*.pdf\n",
        "\n",
        "pdfのパスワードをテキストに入力してください。\n",
        "* デフォルトパス : salary/password.txt\n",
        "\n",
        "# 機能\n",
        "* TCSの給与明細・賞与明細の支給額抜き出し・年収予測を行う。\n",
        "* 給与のpdfが抜けている分は給与平均額で埋める。\n",
        "* 賞与のpdfが抜けている分は賞与max値で埋める。"
      ],
      "metadata": {
        "id": "G0BEmS95JPQ1"
      }
    },
    {
      "cell_type": "markdown",
      "source": [
        "## 準備"
      ],
      "metadata": {
        "id": "iKpvjfGZQhiW"
      }
    },
    {
      "cell_type": "code",
      "execution_count": null,
      "metadata": {
        "id": "ZZ4bx49zKJjB"
      },
      "outputs": [],
      "source": [
        "# googleドライブをマウント\n",
        "from google.colab import drive\n",
        "drive.mount('/content/drive')"
      ]
    },
    {
      "cell_type": "code",
      "source": [
        "# pdf操作ライブラリをインストール\n",
        "!pip install pdfplumber"
      ],
      "metadata": {
        "id": "pOA8XwDzKPLv"
      },
      "execution_count": null,
      "outputs": []
    },
    {
      "cell_type": "markdown",
      "source": [
        "## 解析"
      ],
      "metadata": {
        "id": "6Af2L59XQ69u"
      }
    },
    {
      "cell_type": "code",
      "source": [
        "pdf_folder_path = \"/content/drive/MyDrive/salary/\"\n",
        "password_file_path = \"/content/drive/MyDrive/salary/password.txt\"\n",
        "\n",
        "# パスワードを読み込む\n",
        "with open(password_file_path, 'r') as f:\n",
        "    password = f.read().strip()\n",
        "\n",
        "# 正規表現パターン（ファイル名によって選択）\n",
        "regex_pattern_bonus = r\".*支給額\"  # 賞与に関する正規表現\n",
        "regex_pattern_salary = r\".*支給額\"  # 給与に関する正規表現\n"
      ],
      "metadata": {
        "id": "166MDwJ3QQFr"
      },
      "execution_count": null,
      "outputs": []
    },
    {
      "cell_type": "code",
      "source": [
        "import pdfplumber\n",
        "import re\n",
        "import os\n",
        "import pandas as pd\n",
        "from IPython.core.display import display, Markdown\n",
        "\n",
        "def extract_table_from_pdf(pdf_path, password, regex_pattern):\n",
        "    with pdfplumber.open(pdf_path, password=password) as pdf:\n",
        "        extracted_data = []\n",
        "        for page in pdf.pages:\n",
        "            tables = page.extract_tables()\n",
        "            for table_index, table in enumerate(tables):\n",
        "                for row_index, row in enumerate(table):\n",
        "                    for col_index, cell in enumerate(row):\n",
        "                        if cell and re.search(regex_pattern, cell):\n",
        "                            next_cell = table[row_index][col_index + 1] if col_index + 1 < len(row) else None\n",
        "                            extracted_data.append((page.page_number, cell, next_cell))\n",
        "    return extracted_data\n",
        "\n",
        "# 空のDataFrameを作成\n",
        "df = pd.DataFrame()\n",
        "\n",
        "# フォルダ内のPDFファイルを順番に処理\n",
        "for pdf_file in sorted(os.listdir(pdf_folder_path)):\n",
        "    if pdf_file.endswith('.pdf'):\n",
        "        pdf_path = os.path.join(pdf_folder_path, pdf_file)\n",
        "\n",
        "        if \"賞与\" in pdf_file:\n",
        "            extracted_data = extract_table_from_pdf(pdf_path, password, regex_pattern_bonus)\n",
        "        elif \"給与\" in pdf_file:\n",
        "            extracted_data = extract_table_from_pdf(pdf_path, password, regex_pattern_salary)\n",
        "        else:\n",
        "            print(f\"Skipping {pdf_file} as it doesn't meet any conditions.\")\n",
        "            continue\n",
        "\n",
        "        tmpdict = {'Type':'', '年月':'', '総支給額':'', '差引支給額':''}\n",
        "        if \"賞与\" in pdf_file:\n",
        "            tmpdict['Type'] = \"賞与\"\n",
        "        if \"給与\" in pdf_file:\n",
        "            tmpdict['Type'] = \"給与\"\n",
        "        tmpdict['年月'] = f\"{pdf_file[-12:-6]}\"\n",
        "\n",
        "        for page_number, cell_data, next_cell_data in extracted_data:\n",
        "            if next_cell_data is None:\n",
        "                continue\n",
        "            if cell_data == '賞総支給額': cell_data='総支給額'\n",
        "            tmpdict[cell_data] = next_cell_data\n",
        "\n",
        "        # DataFrameに追加\n",
        "        df_to_append = pd.DataFrame([tmpdict])\n",
        "        df = pd.concat([df, df_to_append], ignore_index=True)\n",
        "# フォーマット変換\n",
        "df['総支給額']=df['総支給額'].str.replace(',','').astype(int)\n",
        "df['差引支給額']=df['差引支給額'].str.replace(',','').astype(int)\n",
        "df['予実']='実績'\n",
        "# display(df)\n",
        "\n",
        "# 予測\n",
        "import math\n",
        "year=df['年月'][0][:4]\n",
        "monthly_salary_total=math.floor(df[df['Type']=='給与'].総支給額.mean())\n",
        "monthly_salary_net_income=math.floor(df[df['Type']=='給与'].差引支給額.mean())\n",
        "bonus_total=df[df['Type']=='賞与'].総支給額.max()\n",
        "bonus_net_income=df[df['Type']=='賞与'].差引支給額.max()\n",
        "\n",
        "# pdfがない月を抽出\n",
        "## salary\n",
        "for mm in [\"{:02}\".format(i) for i in range(1, 13)]:\n",
        "  if mm not in df[df['Type']=='給与'].年月.str[-2:].to_list():\n",
        "    df = pd.concat([df, pd.DataFrame([{'Type': '給与', '年月': f'{year}{mm}', '総支給額': monthly_salary_total, '差引支給額': monthly_salary_net_income}])], ignore_index=True)\n",
        "## bonus\n",
        "for mm in [\"{:02}\".format(i) for i in ['12']]:\n",
        "  if mm not in df[df['Type']=='賞与'].年月.str[-2:].to_list():\n",
        "    df = pd.concat([df, pd.DataFrame([{'Type': '賞与', '年月': f'{year}{mm}', '総支給額': bonus_total, '差引支給額': bonus_net_income}])], ignore_index=True)\n",
        "df.loc[df['予実'].isna(), '予実'] = '予測'\n",
        "\n",
        "# 解析結果表示\n",
        "def highlight_forecast_row(row):\n",
        "    if row['予実'] == '予測':\n",
        "        return ['background-color: gray']*len(row)\n",
        "    return ['']*len(row)\n",
        "\n",
        "display(Markdown('# 結果'))\n",
        "df=df.sort_values(['Type','年月'])\n",
        "display(df.style.format({'総支給額': '{:,d}', '差引支給額': '{:,d}'}).apply(highlight_forecast_row, axis=1).hide(axis=\"index\"))\n",
        "# display(df, df[['総支給額','差引支給額']].sum())\n",
        "\n",
        "# 集計\n",
        "# 各列の総合計を計算\n",
        "actual_salary = df.loc[df['予実'] == '実績', '総支給額'].sum()\n",
        "actual_net_income = df.loc[df['予実'] == '実績', '差引支給額'].sum()\n",
        "total_salary = df['総支給額'].sum()\n",
        "total_net_income = df['差引支給額'].sum()\n",
        "\n",
        "# 総合計値をMarkdownで表示\n",
        "display(Markdown(f\"# 集計\"))\n",
        "display(Markdown(f\"- 総支給額の総合計(実績):   \\ {actual_salary:,}\"))\n",
        "display(Markdown(f\"- 差引支給額の総合計(実績): \\ {actual_net_income:,}\"))\n",
        "display(Markdown(f\"- 今年の総支給額の総合計(予測):   \\ {total_salary:,}\"))\n",
        "display(Markdown(f\"- 今年の差引支給額の総合計(予測): \\ {total_net_income:,}\"))\n"
      ],
      "metadata": {
        "id": "HckroQXT8Seo"
      },
      "execution_count": null,
      "outputs": []
    },
    {
      "cell_type": "code",
      "source": [],
      "metadata": {
        "id": "TNjpu6AlYE-G"
      },
      "execution_count": null,
      "outputs": []
    }
  ]
}